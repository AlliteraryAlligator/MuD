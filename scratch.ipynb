{
 "cells": [
  {
   "cell_type": "markdown",
   "metadata": {},
   "source": [
    "# Workspace"
   ]
  },
  {
   "cell_type": "code",
   "execution_count": 2,
   "metadata": {},
   "outputs": [],
   "source": [
    "test = []\n",
    "\n",
    "test.append(('apple', 100))\n",
    "test.append(('banana', 200))\n",
    "test.append(('apple', 50))\n",
    "test.append(('susan', 300))\n"
   ]
  },
  {
   "cell_type": "code",
   "execution_count": 3,
   "metadata": {},
   "outputs": [],
   "source": [
    "import pandas as pd\n",
    "import csv"
   ]
  },
  {
   "cell_type": "code",
   "execution_count": 4,
   "metadata": {},
   "outputs": [],
   "source": [
    "df = pd.DataFrame(test, columns=['word', 'count'])\n",
    "df.to_csv('./test.csv', index=False)"
   ]
  },
  {
   "cell_type": "code",
   "execution_count": 5,
   "metadata": {},
   "outputs": [],
   "source": [
    "df2 = pd.read_csv('./test.csv')"
   ]
  },
  {
   "cell_type": "code",
   "execution_count": 6,
   "metadata": {},
   "outputs": [
    {
     "name": "stdout",
     "output_type": "stream",
     "text": [
      "     word  count\n",
      "0   apple    100\n",
      "1  banana    200\n",
      "2   apple     50\n",
      "3   susan    300\n"
     ]
    }
   ],
   "source": [
    "print(df2.head())"
   ]
  },
  {
   "cell_type": "code",
   "execution_count": 7,
   "metadata": {},
   "outputs": [
    {
     "name": "stdout",
     "output_type": "stream",
     "text": [
      "5\n"
     ]
    }
   ],
   "source": [
    "df3 = pd.read_csv(\"./results/raw_scrape.csv\")\n",
    "print(len(df3))"
   ]
  },
  {
   "cell_type": "code",
   "execution_count": 1,
   "metadata": {},
   "outputs": [],
   "source": [
    "from mine import get_date_of_publication\n",
    "links = get_date_of_publication(\"./results/search_results.json\")"
   ]
  },
  {
   "cell_type": "code",
   "execution_count": 3,
   "metadata": {},
   "outputs": [
    {
     "name": "stdout",
     "output_type": "stream",
     "text": [
      "https://www.bbc.com/news/world-latin-america-35019111\n",
      "(2015, 12, 7)\n",
      "https://www.bbc.com/news/world-latin-america-44187838\n",
      "(2018, 5, 21)\n",
      "https://www.reuters.com/world/us/fox-news-settles-with-venezuelan-businessman-election-defamation-lawsuit-2023-04-10/\n",
      "(2023, 4, 10)\n",
      "https://www.npr.org/2023/07/23/1189659868/venezuelas-opposition-is-preparing-for-next-years-general-election\n",
      "(2023, 7, 23)\n",
      "https://www.reuters.com/world/americas/venezuela-opposition-sticks-primary-election-date-after-delay-request-2023-10-02/\n",
      "(2023, 10, 2)\n",
      "https://www.reuters.com/world/americas/venezuela-opposition-sign-election-deal-paving-way-us-sanctions-relief-2023-10-17/\n",
      "(2023, 10, 17)\n",
      "https://www.bbc.com/news/world-latin-america-67144568\n",
      "(2023, 10, 18)\n",
      "https://www.reuters.com/world/americas/venezuelans-vote-opposition-primary-clouded-by-uncertainty-2023-10-22/\n",
      "(2023, 10, 22)\n",
      "https://www.npr.org/2023/10/26/1208869387/to-foster-a-free-election-in-venezuela-the-u-s-is-offering-the-maduro-regime-a-d\n",
      "(2023, 10, 26)\n",
      "https://www.reuters.com/world/americas/venezuelas-top-court-suspends-results-opposition-presidential-primary-2023-10-30/\n",
      "(2023, 10, 31)\n"
     ]
    }
   ],
   "source": [
    "for link in links:\n",
    "    print(link)\n",
    "    print(links[link])"
   ]
  }
 ],
 "metadata": {
  "kernelspec": {
   "display_name": "Python 3",
   "language": "python",
   "name": "python3"
  },
  "language_info": {
   "codemirror_mode": {
    "name": "ipython",
    "version": 3
   },
   "file_extension": ".py",
   "mimetype": "text/x-python",
   "name": "python",
   "nbconvert_exporter": "python",
   "pygments_lexer": "ipython3",
   "version": "3.10.1"
  }
 },
 "nbformat": 4,
 "nbformat_minor": 2
}
